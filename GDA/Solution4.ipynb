{
 "cells": [
  {
   "cell_type": "markdown",
   "metadata": {},
   "source": [
    "# Question 4: Gaussian Discriminant Analysis\n",
    "\n",
    "## Data \n",
    "In the current problem we are given $m$ values of attributes such that for each $i^{th}$ value of the attribute ($\\alpha^i \\varepsilon R^{2}$) we have $Y^i \\varepsilon R^{1}$. We define $X^i$ such that for each $i^{th}$ sample $X^i = <\\alpha^i> $ where $X \\varepsilon R^{2}$.\n",
    "\n",
    "## Normal Equations used to calculate model parameters: $\\theta$ <$\\Sigma$ $\\Sigma_1$ $\\Sigma_2$ $\\mu_1$ $\\mu_2$ $\\phi$>\n",
    "\n",
    "#### Model : $P(Y=k|X;\\theta) = \\frac{\\phi^k(1-\\phi)^{1-k}\\frac{1}{(2\\pi)^{n/2}|\\Sigma_i|^{1/2}}e^{-\\frac{(X-\\mu_k)^T \\Sigma_k^{-1}(X-\\mu_k)}{2}}}{\\sum_{i=0}^{1} (\\phi^i(1-\\phi)^{1-i} \\frac{1}{(2\\pi)^{n/2}|\\Sigma_i|^{1/2}}e^{-\\frac{(X-\\mu_i)^T \\Sigma_i^{-1}(X-\\mu_i)}{2}})}$\n",
    "\n",
    "#### Estimate for $\\phi$ : $\\phi = \\frac{\\sum_{i=1}^{m} 𝟙\\{Y^i=1\\}}{\\sum_{i=1}^{m} 𝟙}$\n",
    "#### Estimate for $\\mu_k$: $\\mu_k = \\frac{\\sum_{i=1}^{m} 𝟙 \\{Y^i=K\\}X^i}{\\sum_{i=1}^{m} 𝟙\\{Y^i=K\\}} $\n",
    "#### Estimate for $\\Sigma_k$: $\\Sigma_k = \\frac{\\sum_{i=1}^{m} 𝟙 \\{Y^i=K\\}(X-\\mu_k)^T(X-\\mu_k)}{\\sum_{i=1}^{m} 𝟙\\{Y^i=K\\}} $\n",
    "#### Estimate for $\\Sigma$: $\\Sigma= \\frac{\\sum_{K=0}^{1} \\sum_{i=1}^{m} 𝟙 \\{Y^i=K\\}(X^i-\\mu_k)^T(X^i-\\mu_k)}{\\sum_{1}^m 𝟙} $\n"
   ]
  },
  {
   "cell_type": "code",
   "execution_count": 1,
   "metadata": {
    "ExecuteTime": {
     "end_time": "2018-02-13T07:48:16.883864Z",
     "start_time": "2018-02-13T07:48:07.197244Z"
    }
   },
   "outputs": [],
   "source": [
    "import sys\n",
    "import numpy as np\n",
    "import pandas as pd\n",
    "import matplotlib\n",
    "import matplotlib.pyplot as plt\n",
    "from time import time\n",
    "import warnings\n",
    "warnings.filterwarnings(\"ignore\")\n",
    "#%matplotlib"
   ]
  },
  {
   "cell_type": "markdown",
   "metadata": {},
   "source": [
    "## Loading training and testing data"
   ]
  },
  {
   "cell_type": "code",
   "execution_count": 2,
   "metadata": {
    "ExecuteTime": {
     "end_time": "2018-02-13T07:48:17.187205Z",
     "start_time": "2018-02-13T07:48:16.886086Z"
    }
   },
   "outputs": [],
   "source": [
    "X = pd.read_csv('q4x.dat', delimiter=' ').values[:,0::2]\n",
    "Y = pd.read_csv('q4y.dat', delimiter=\"\\t\").values\n",
    "_1 = np.ones(Y.shape)\n",
    "X0 = X[Y[:,0] == 'Canada']\n",
    "X1 = X[Y[:,0] == 'Alaska']"
   ]
  },
  {
   "cell_type": "markdown",
   "metadata": {},
   "source": [
    "## Calculating model estimates for case when $\\Sigma_0 = \\Sigma_1 =\\Sigma$"
   ]
  },
  {
   "cell_type": "code",
   "execution_count": 3,
   "metadata": {
    "ExecuteTime": {
     "end_time": "2018-02-13T07:48:17.352791Z",
     "start_time": "2018-02-13T07:48:17.189791Z"
    }
   },
   "outputs": [],
   "source": [
    "phi = np.sum(_1[Y[:,0] == 'Alaska']) / np.sum(_1)\n",
    "mu_1 = np.sum(X1,axis=0) / np.sum(_1[Y[:,0] == 'Alaska']).reshape(1,-1)\n",
    "mu_0 = np.sum(X0,axis=0) / np.sum(_1[Y[:,0] == 'Canada']).reshape(1,-1)\n",
    "\n",
    "Cx = (np.dot((X1-mu_1).T,(X1-mu_1))+np.dot((X0-mu_0).T,(X0-mu_0)))/np.sum(_1)\n",
    "\n",
    "# print(\"%s = \"%(u'\\u03A6'))\n",
    "# print(phi)\n",
    "# print(\"%s = \"%( u'\\u03A3'))\n",
    "# print(Cx)\n",
    "# print(\"%s1 = \"%(u'\\u03BC'))\n",
    "# print(mu_1)\n",
    "# print(\"%s0 = \"%(u'\\u03BC'))\n",
    "# print(mu_0)"
   ]
  },
  {
   "cell_type": "markdown",
   "metadata": {
    "variables": {
     "print(Cx)": "[[ 289.43198928  -20.90429602]\n [ -20.90429602 1095.4086209 ]]",
     "print(mu_0)": "[[137.46 366.62]]",
     "print(mu_1)": "[[ 98.18367347 430.91836735]]",
     "print(phi)": "0.494949494949495"
    }
   },
   "source": [
    "### Model estimates\n",
    "#### $\\Phi = ${{print(phi)}}\n",
    "#### $\\Sigma = ${{print(Cx)}}\n",
    "#### $\\mu_1 = ${{print(mu_1)}}\n",
    "#### $\\mu_0 = ${{print(mu_0)}}"
   ]
  },
  {
   "cell_type": "markdown",
   "metadata": {},
   "source": [
    "## Modeling data"
   ]
  },
  {
   "cell_type": "code",
   "execution_count": 4,
   "metadata": {
    "ExecuteTime": {
     "end_time": "2018-02-13T07:48:18.686505Z",
     "start_time": "2018-02-13T07:48:17.446581Z"
    }
   },
   "outputs": [
    {
     "data": {
      "image/png": "[encoded data removed]",
      "text/plain": [
       "<matplotlib.figure.Figure at 0x7f496952b860>"
      ]
     },
     "metadata": {},
     "output_type": "display_data"
    }
   ],
   "source": [
    "plt.figure(1)\n",
    "plt.title(\"Data\",fontsize=10,y=0.9)\n",
    "X0 = X[Y[:,0] == 'Canada']\n",
    "X1 = X[Y[:,0] == 'Alaska']\n",
    "\n",
    "plt.plot(X0[:,0],X0[:,1],'b.',label='Canada')\n",
    "plt.plot(X1[:,0],X1[:,1],'r^',label='Alaska')\n",
    "plt.legend(bbox_to_anchor=(0.7, 0.2), loc=2, borderaxespad=0.)\n",
    "plt.xlabel(r'$X_{0}$')\n",
    "plt.ylabel(r'$X_{1}$')\n",
    "plt.draw()"
   ]
  },
  {
   "cell_type": "markdown",
   "metadata": {},
   "source": [
    "### Plotting bondary separating two classes with same $\\Sigma$\n",
    "Separating boundary is defined by $P(Y=1|X;\\theta)=P(Y=0|X;\\theta)$ \n",
    "<br>\n",
    "Separation boundary is linear i.e. $ 2*X \\Sigma^{-1}(\\mu_1-\\mu_0)^T+C = 0$ where $C = (\\mu_1 - \\mu_0) \\Sigma^{-1} (\\mu_1 - \\mu_0)^T - 2log(\\frac{\\phi}{1-\\phi})$\n"
   ]
  },
  {
   "cell_type": "code",
   "execution_count": 17,
   "metadata": {
    "ExecuteTime": {
     "end_time": "2018-02-13T08:55:28.698216Z",
     "start_time": "2018-02-13T08:55:28.314855Z"
    }
   },
   "outputs": [
    {
     "data": {
      "image/png": "[encoded data removed]",
      "text/plain": [
       "<matplotlib.figure.Figure at 0x7f499089cdd8>"
      ]
     },
     "metadata": {},
     "output_type": "display_data"
    }
   ],
   "source": [
    "Cxinv = np.linalg.pinv(Cx)\n",
    "C = np.dot(mu_1, np.dot(Cxinv, mu_1.T)) - np.dot(mu_0, np.dot(Cxinv, mu_0.T)) - 2*np.log(phi/(1-phi))\n",
    "M = 2*np.dot(Cxinv,(mu_1-mu_0).T)\n",
    "M_same = M.copy()\n",
    "C_same = C.copy()\n",
    "\n",
    "plt.figure(1)\n",
    "plt.title(\"Data\",fontsize=10,y=0.9)\n",
    "\n",
    "plt.plot(X0[:,0],X0[:,1],'b.',label='Canada')\n",
    "plt.plot(X1[:,0],X1[:,1],'r^',label='Alaska')\n",
    "\n",
    "minX = int(np.min(X[:,1]))-1\n",
    "maxX = int(np.max(X[:,1]))+1\n",
    "\n",
    "Xp = np.asarray([x for x in range(minX,maxX)])\n",
    "\n",
    "Xo = ((-1*(Xp*M[1,0])+C)/(M[0,0]))\n",
    "plt.plot(Xo[0],Xp,'.g-',label=r'$Same \\Sigma$')\n",
    "plt.legend(bbox_to_anchor=(0.7, 0.3), loc=2, borderaxespad=0.)\n",
    "\n",
    "plt.xlabel(r'$X_{0}$')\n",
    "plt.ylabel(r'$X_{1}$')\n",
    "plt.draw()"
   ]
  },
  {
   "cell_type": "markdown",
   "metadata": {},
   "source": [
    "## Calculating model estimates for case when $\\Sigma_0 \\neq \\Sigma_1$"
   ]
  },
  {
   "cell_type": "code",
   "execution_count": 6,
   "metadata": {
    "ExecuteTime": {
     "end_time": "2018-02-13T07:48:19.230108Z",
     "start_time": "2018-02-13T07:48:19.204002Z"
    }
   },
   "outputs": [],
   "source": [
    "Cx1 = np.dot((X1-mu_1).T,(X1-mu_1))/np.sum(_1[Y[:,0] == 'Alaska'])\n",
    "Cx0 = np.dot((X0-mu_0).T,(X0-mu_0))/np.sum(_1[Y[:,0] == 'Canada'])\n",
    "\n",
    "# print(\"%s = \"%(u'\\u03A6'))\n",
    "# print(phi)\n",
    "# print(\"%s1 = \"%( u'\\u03A3'))\n",
    "# print(Cx1)\n",
    "# print(\"%s1 = \"%(u'\\u03BC'))\n",
    "# print(mu_1)\n",
    "\n",
    "# print(\"%s0 = \"%( u'\\u03A3'))\n",
    "# print(Cx0)\n",
    "# print(\"%s0 = \"%(u'\\u03BC'))\n",
    "# print(mu_0)"
   ]
  },
  {
   "cell_type": "markdown",
   "metadata": {
    "variables": {
     "print(Cx0)": "[[319.5684 130.8348]\n [130.8348 875.3956]]",
     "print(Cx1)": "[[ 258.68054977 -175.74010829]\n [-175.74010829 1319.91170346]]",
     "print(mu_0)": "[[137.46 366.62]]",
     "print(mu_1)": "[[ 98.18367347 430.91836735]]",
     "print(phi)": "0.494949494949495"
    }
   },
   "source": [
    "### Model estimates\n",
    "#### $\\Phi = ${{print(phi)}}\n",
    "#### $\\Sigma_1 = ${{print(Cx1)}}\n",
    "#### $\\mu_1 = ${{print(mu_1)}}\n",
    "#### $\\Sigma_0 = ${{print(Cx0)}}\n",
    "#### $\\mu_0 = ${{print(mu_0)}}"
   ]
  },
  {
   "cell_type": "markdown",
   "metadata": {},
   "source": [
    "### Calculating parameters of boundary equation\n",
    "Separating boundary is defined by $P(Y=1|X;\\theta)=P(Y=0|X;\\theta)$ \n",
    "<br>\n",
    "Separation boundary is Quadratic i.e. $ X(\\Sigma_1^{-1}-\\Sigma_0^{-1})X^T-2X (\\Sigma_1^{-1}(\\mu_1^T)-\\Sigma_0^{-1}(\\mu_0^T))+C = 0$ $\\ \\ \\ \\ (1)$<br>where $C = (\\mu_1) \\Sigma_1^{-1} (\\mu_1)^T - (\\mu_0) \\Sigma_0^{-1} (\\mu_0)^T + log(\\frac{|\\Sigma_1|}{|\\Sigma_0|}) - 2log(\\frac{\\phi}{1-\\phi})$\n",
    "#### Approach 1 Using normal equation\n",
    "Now, $X = <X_0,X_1>$ for decision boundary we can define (1) as $XAX^T-XB+C = 0$ $\\ \\ \\ \\ (2)$ where,\n",
    "<br> $A =  \\Sigma_1^{-1}-\\Sigma_0^{-1}$\n",
    "<br> $B = -2(\\Sigma_1^{-1}(\\mu_1^T)-\\Sigma_0^{-1}(\\mu_0^T))$\n",
    "<br> $C = C$\n",
    "<br> We can write equation (2) as\n",
    "<br> $X_0 A_{00} X_0 + X_1 A_{10} X_0 +X_0 A_{01} X_1 + X_1 A_{11} X_1 + X_0 B_0 + X_1 B_1 + C = 0$\n",
    "<br>\n",
    "or\n",
    "<br> $X_0^2 A_{00} + X_0(2X_1 A_{10}+B_0) + (X_1 A_{11} X_1  + X_1 B_1 + C) = 0$\n",
    "<br> For a given $X_1$ equation 2 will be a quadratic in terms of $X_0$ so solve the equation to get $X_0$ all such pair of $<X_0,X_1>$ defines our boundary\n"
   ]
  },
  {
   "cell_type": "code",
   "execution_count": 16,
   "metadata": {
    "ExecuteTime": {
     "end_time": "2018-02-13T08:49:28.993754Z",
     "start_time": "2018-02-13T08:49:28.938715Z"
    }
   },
   "outputs": [],
   "source": [
    "Cxinv1 = np.linalg.pinv(Cx1)\n",
    "Cxinv0 = np.linalg.pinv(Cx0)\n",
    "C = np.dot(mu_1, np.dot(Cxinv1, mu_1.T)) - np.dot(mu_0, np.dot(Cxinv0, mu_0.T))+np.log(np.linalg.det(Cx1)/np.linalg.det(Cx0))- 2*np.log(phi/(1-phi))\n",
    "M = -2*(np.dot(Cxinv1,mu_1.T)-np.dot(Cxinv0,mu_0.T))\n",
    "\n",
    "A = Cxinv1-Cxinv0\n",
    "def find_X0(X1,A,M,C):\n",
    "    c = C + (X1*X1)*A[1,1] + X1*M[1,0]\n",
    "    b = X1*A[0,1] + X1*A[1,0] + M[0,0]\n",
    "    a = A[0,0]\n",
    "    X2 = (-1*b + np.sqrt((b**2)-(4*a*c)))/(2*a)\n",
    "#     Taking only larger value\n",
    "    return X2"
   ]
  },
  {
   "cell_type": "markdown",
   "metadata": {},
   "source": [
    "### Plotting data and learned model for cases $\\Sigma_0 = \\Sigma_1$(Same $\\Sigma$) and $\\Sigma_0 \\neq \\Sigma_1$(Different $\\Sigma$)"
   ]
  },
  {
   "cell_type": "code",
   "execution_count": 8,
   "metadata": {
    "ExecuteTime": {
     "end_time": "2018-02-13T07:48:20.122418Z",
     "start_time": "2018-02-13T07:48:19.437838Z"
    }
   },
   "outputs": [
    {
     "data": {
      "image/png": "[encoded data removed]",
      "text/plain": [
       "<matplotlib.figure.Figure at 0x7f49673d7c50>"
      ]
     },
     "metadata": {},
     "output_type": "display_data"
    }
   ],
   "source": [
    "plt.figure(4)\n",
    "plt.cla()\n",
    "X0 = X[Y[:,0] == 'Canada']\n",
    "X1 = X[Y[:,0] == 'Alaska']\n",
    "plt.title(\"Gaussian Discriminant Analysis\",fontsize=10,y=1.008)\n",
    "plt.scatter(X0[:,0],X0[:,1],c='b',marker='o',label='Canada')\n",
    "plt.scatter(X1[:,0],X1[:,1],c='r',marker='^',label='Alaska')\n",
    "\n",
    "minX = int(np.min(X[:,1]))-1\n",
    "maxX = int(np.max(X[:,1]))+1\n",
    "\n",
    "\n",
    "Xo = ((-1*(Xp*M_same[1,0])+C_same)/(M_same[0,0]))\n",
    "plt.plot(Xo[0],Xp,'k-',label=r'$Same \\Sigma$')\n",
    "\n",
    "Xp = np.asarray([x for x in range(minX,maxX)])\n",
    "Xo = find_X0(Xp,A,M,C)\n",
    "plt.plot(Xo[0],Xp,'g-',label=r'$Different \\Sigma$')\n",
    "\n",
    "plt.legend(bbox_to_anchor=(0.01, 0.99), loc=2, borderaxespad=0.)\n",
    "plt.xlabel(r'$X_{0}$')\n",
    "plt.ylabel(r'$X_{1}$')\n",
    "plt.show()"
   ]
  },
  {
   "cell_type": "markdown",
   "metadata": {},
   "source": [
    "#### Approach 2 : Machine learning\n",
    "Now, $X = <X_1,X_0>$ for decision boundary we can define $X_1 = aX_0^2 + bX_0 + c$ here c = C.\n",
    "<br>\n",
    "We can define X as $X = QX^{'}$\n",
    "where $X^{'} = \\begin{bmatrix}\n",
    " X_0^2 & 0\\\\\n",
    " X_0 & 0\\\\\n",
    " 1 & X_0\n",
    "\\end{bmatrix} $ and $Q = \\begin{bmatrix}\n",
    " a& b &1\n",
    "\\end{bmatrix}$\n",
    "\n",
    "let's say $H_Q(X) = X(\\Sigma_1^{-1}-\\Sigma_0^{-1})X^T-2X (\\Sigma_1^{-1}(\\mu_1^T)-\\Sigma_0^{-1}(\\mu_0^T))+C$ or $H_Q(X) = QX^{'}(\\Sigma_1^{-1}-\\Sigma_0^{-1})QX^{'T}-2QX^{'} (\\Sigma_1^{-1}(\\mu_1^T)-\\Sigma_0^{-1}(\\mu_0^T))+C$ \n",
    "Now we know that for each $X$, $H_Q(X)$ should be $0$ so we use machine learning to estimate parameters $Q <a,b,1>$ \n",
    "Where <br>\n",
    "$J(Q) = \\sum_{i=1}^{m}(Y^i - H_Q{X^i})^2$ where $Y^i = 0$ $ \\forall$ $ i$\n",
    "<br>\n",
    "$\\bigtriangledown_Q J(Q) = -\\sum_{i=1}^{m}H_Q(X^i)(2QX^{'}(\\Sigma_1^{-1}-\\Sigma_0^{-1})+2X^{'}(\\Sigma_1^{-1}(\\mu_1^T)-\\Sigma_0^{-1}(\\mu_0^T)))\\begin{bmatrix}\n",
    " 1 & 0 & 0\\\\0 & 1 & 0\\\\0 & 0 & 0\\\\\n",
    "\\end{bmatrix}$\n",
    "<br>\n",
    "Update rule is $Q^{t+1} = Q^t - \\eta \\bigtriangledown_{Q}J(Q^t)$\n",
    "\n",
    "<br>\n",
    "Note: to see how gardient descend is working use the interactive mode by replacing\n",
    "\n",
    "```python\n",
    "theta = train(m,X2,X1,C,100,flag=False)\n",
    "```\n",
    "with\n",
    "```python\n",
    "theta = train(m,X2,X1,C,100,flag=True)\n",
    "```"
   ]
  },
  {
   "cell_type": "code",
   "execution_count": 9,
   "metadata": {
    "ExecuteTime": {
     "end_time": "2018-02-13T07:48:21.323245Z",
     "start_time": "2018-02-13T07:48:20.124700Z"
    }
   },
   "outputs": [],
   "source": [
    "Cxinv1 = np.linalg.pinv(Cx1)\n",
    "Cxinv0 = np.linalg.pinv(Cx0)\n",
    "C = np.dot(mu_1, np.dot(Cxinv1, mu_1.T)) - np.dot(mu_0, np.dot(Cxinv0, mu_0.T))+np.log(np.linalg.det(Cx1)/np.linalg.det(Cx0))- 2*np.log(phi/(1-phi))\n",
    "M = -2*(np.dot(Cxinv1,mu_1.T)-np.dot(Cxinv0,mu_0.T))\n",
    "A = Cxinv1-Cxinv0\n",
    "Xo = ((-1*(X[:,1]*M[1,0])+C)/(M[0,0]))[0]\n",
    "\n",
    "X1 = X[:,1]\n",
    "X2 = X[:,1]**2\n",
    "_C = np.ones(X[:,1].shape)*C\n",
    "_0 = np.zeros(X[:,1].shape)\n",
    "\n",
    "XX0=np.vstack((np.vstack((X2,X1)),_C))\n",
    "XX1=np.vstack((np.vstack((_0,_0)),X1))\n",
    "\n",
    "m = X.shape[0]\n",
    "def data_prep(XX0,XX1,m):\n",
    "    data = []\n",
    "    for i in range(m):\n",
    "        data.append(np.vstack((XX0[:,i],XX1[:,i])).T)\n",
    "    return np.asarray(data)\n",
    "    \n",
    "data = data_prep(XX0,XX1,m)\n",
    "\n",
    "def loopdot(data,matrix,m,pow):\n",
    "    data_loop = []\n",
    "    if pow == 2:\n",
    "        for i in range(m):\n",
    "            data_loop.append(np.dot(data[i,:,:],np.dot(matrix,data[i,:,:].T)))\n",
    "        return np.asarray(data_loop)\n",
    "    if pow == 1:\n",
    "        for i in range(m):\n",
    "            data_loop.append(np.dot(data[i,:,:],matrix))\n",
    "    return np.asarray(data_loop)\n",
    "\n",
    "X2 = loopdot(data,A,m,2)\n",
    "X1 = loopdot(data,M,m,1)\n",
    "\n",
    "def train(m,X2,X1,C,iter,flag):\n",
    "    def plot_model(theta,X,C,error,x):\n",
    "        plt.figure(3)\n",
    "        sp1=plt.subplot(121)\n",
    "        sp1.cla()\n",
    "        X0 = X[Y[:,0] == 'Canada']\n",
    "        X1 = X[Y[:,0] == 'Alaska']\n",
    "        sp1.set_title(\"Data\",fontsize=10,y=1.08)\n",
    "        sp1.scatter(X0[:,0],X0[:,1],c='b',marker='o',label='Canada')\n",
    "        sp1.scatter(X1[:,0],X1[:,1],c='r',marker='^',label='Alaska')\n",
    "        minX = int(np.min(X[:,1]))-1\n",
    "        maxX = int(np.max(X[:,1]))+1\n",
    "        X1 = np.asarray([x for x in range(minX,maxX)])\n",
    "        Xo = theta[0,0]*X1**2+theta[1,0]*X1+C\n",
    "        sp1.plot(Xo[0],X1,'g-',label=r'$Same \\Sigma$')\n",
    "        sp1.legend(bbox_to_anchor=(0, 0.99), loc=2, borderaxespad=0.)\n",
    "        sp1.set_xlabel(r'$X_{0}$')\n",
    "        sp1.set_ylabel(r'$X_{1}$')\n",
    "        \n",
    "        sp2=plt.subplot(122)\n",
    "        sp2.set_title(\"Error vs Epoch\",fontsize=10,y=1.08)\n",
    "        sp2.scatter(x,error[0,0],c='g',marker='o')\n",
    "        sp2.set_xlabel(r'$Epoch$')\n",
    "        sp2.set_ylabel(r'$J(\\theta)$')\n",
    "        \n",
    "        plt.draw()\n",
    "        plt.pause(0.01)\n",
    "\n",
    "    def dJ(theta, m, X2, X1, C):\n",
    "        _dJ = np.zeros((1,3),np.float32)\n",
    "        for i in range(m):\n",
    "            _dJ += (0 - 1 *\n",
    "                   (np.dot(theta.T, np.dot(X2[i, :, :], theta)\n",
    "                           ) + np.dot(theta.T, X1[i, :, :]) + C)) * (\n",
    "                               -1 * (2*np.dot(theta.T, X2[i, :, :]) + X1[i, :, :].T))\n",
    "        return _dJ.T/m\n",
    "\n",
    "    def error(theta, m, X2, X1, C):\n",
    "        _e=0\n",
    "        for i in range(m):\n",
    "            _e += (0 - 1 *\n",
    "               (np.dot(theta.T, np.dot(X2[i, :, :], theta)\n",
    "                       ) + np.dot(theta.T, X1[i, :, :]) + C))**2\n",
    "        return _e/m\n",
    "\n",
    "    theta = np.zeros((3,1),np.float32)\n",
    "    start_time = time()\n",
    "    for x in range(iter):\n",
    "        theta[2,0]=1\n",
    "        theta= theta - 0.0000000001*dJ(theta,m,X2,X1,C)\n",
    "        if (time()-start_time >= 0.02):\n",
    "            if flag:\n",
    "                e = error(theta,m,X2,X1,C)\n",
    "                plot_model(theta,X,C,e,x)\n",
    "            start_time=time()\n",
    "    return theta\n",
    "theta = train(m,X2,X1,C,100,flag=False)\n",
    "# print('%s = '%('\\u0398'))\n",
    "# print(theta)"
   ]
  },
  {
   "cell_type": "markdown",
   "metadata": {},
   "source": [
    "#### Estimate value for $Q =$ {{print(theta.T[0,:])}} "
   ]
  },
  {
   "cell_type": "markdown",
   "metadata": {},
   "source": [
    "### Plotting data and learned model for cases $\\Sigma_0 = \\Sigma_1$(Same $\\Sigma$) and $\\Sigma_0 \\neq \\Sigma_1$(Different $\\Sigma$)"
   ]
  },
  {
   "cell_type": "code",
   "execution_count": 10,
   "metadata": {
    "ExecuteTime": {
     "end_time": "2018-02-13T07:48:21.798813Z",
     "start_time": "2018-02-13T07:48:21.344194Z"
    }
   },
   "outputs": [
    {
     "data": {
      "image/png": "[encoded data removed]",
      "text/plain": [
       "<matplotlib.figure.Figure at 0x7f49673de668>"
      ]
     },
     "metadata": {},
     "output_type": "display_data"
    }
   ],
   "source": [
    "plt.figure(4)\n",
    "plt.cla()\n",
    "X0 = X[Y[:,0] == 'Canada']\n",
    "X1 = X[Y[:,0] == 'Alaska']\n",
    "plt.title(\"Gaussian Discriminant Analysis\",fontsize=10,y=1.008)\n",
    "plt.scatter(X0[:,0],X0[:,1],c='b',marker='o',label='Canada')\n",
    "plt.scatter(X1[:,0],X1[:,1],c='r',marker='^',label='Alaska')\n",
    "\n",
    "minX = int(np.min(X[:,1]))-1\n",
    "maxX = int(np.max(X[:,1]))+1\n",
    "\n",
    "Xp = np.asarray([x for x in range(minX,maxX)])\n",
    "\n",
    "Xo = theta[0,0]*Xp**2+theta[1,0]*Xp+C\n",
    "plt.plot(Xo[0],Xp,'g-',label=r'$Different \\Sigma$')\n",
    "\n",
    "Xo = ((-1*(Xp*M_same[1,0])+C_same)/(M_same[0,0]))\n",
    "plt.plot(Xo[0],Xp,'k-',label=r'$Same \\Sigma$')\n",
    "\n",
    "plt.legend(bbox_to_anchor=(0.01, 0.99), loc=2, borderaxespad=0.)\n",
    "plt.xlabel(r'$X_{0}$')\n",
    "plt.ylabel(r'$X_{1}$')\n",
    "plt.show()"
   ]
  },
  {
   "cell_type": "markdown",
   "metadata": {},
   "source": [
    "##### Note: Quadratic boundary is separating two class better than linear boundary"
   ]
  }
 ],
 "metadata": {
  "kernelspec": {
   "display_name": "Python 3",
   "language": "python",
   "name": "python3"
  },
  "language_info": {
   "codemirror_mode": {
    "name": "ipython",
    "version": 3
   },
   "file_extension": ".py",
   "mimetype": "text/x-python",
   "name": "python",
   "nbconvert_exporter": "python",
   "pygments_lexer": "ipython3",
   "version": "3.5.2"
  },
  "latex_envs": {
   "LaTeX_envs_menu_present": true,
   "autoclose": true,
   "autocomplete": true,
   "bibliofile": "biblio.bib",
   "cite_by": "apalike",
   "current_citInitial": 1,
   "eqLabelWithNumbers": true,
   "eqNumInitial": 1,
   "hotkeys": {
    "equation": "Ctrl-E",
    "itemize": "Ctrl-I"
   },
   "labels_anchors": false,
   "latex_user_defs": false,
   "report_style_numbering": true,
   "user_envs_cfg": true
  },
  "varInspector": {
   "cols": {
    "lenName": 16,
    "lenType": 16,
    "lenVar": 40
   },
   "kernels_config": {
    "python": {
     "delete_cmd_postfix": "",
     "delete_cmd_prefix": "del ",
     "library": "var_list.py",
     "varRefreshCmd": "print(var_dic_list())"
    },
    "r": {
     "delete_cmd_postfix": ") ",
     "delete_cmd_prefix": "rm(",
     "library": "var_list.r",
     "varRefreshCmd": "cat(var_dic_list()) "
    }
   },
   "oldHeight": 122,
   "position": {
    "height": "40px",
    "left": "996px",
    "right": "20px",
    "top": "119px",
    "width": "350px"
   },
   "types_to_exclude": [
    "module",
    "function",
    "builtin_function_or_method",
    "instance",
    "_Feature"
   ],
   "varInspector_section_display": "none",
   "window_display": true
  }
 },
 "nbformat": 4,
 "nbformat_minor": 2
}
