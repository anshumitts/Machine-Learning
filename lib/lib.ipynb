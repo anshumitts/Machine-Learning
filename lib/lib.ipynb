{
 "cells": [
  {
   "cell_type": "markdown",
   "metadata": {},
   "source": [
    "# Gradient decend algorithm used in the entire submission"
   ]
  },
  {
   "cell_type": "code",
   "execution_count": null,
   "metadata": {
    "ExecuteTime": {
     "end_time": "2018-02-12T13:36:48.342161Z",
     "start_time": "2018-02-12T13:36:47.955069Z"
    }
   },
   "outputs": [],
   "source": [
    "\"\"\"Encapsulating all the model parameters\"\"\"\n",
    "class regression:\n",
    "    \"\"\"Setting up basic parameters for the training for model\"\"\"\n",
    "    def __init__(self, X, Y, ratio,eqn,dJ,J,intercept=True):\n",
    "        # init class for initialsing model parameters\n",
    "        self.eqn = eqn\n",
    "        self.J = J\n",
    "        self.dJ = dJ\n",
    "        \n",
    "        #taking care of the intercept\n",
    "        if intercept:\n",
    "            X_temp = np.hstack((np.ones((X.shape[0], 1)), X))\n",
    "            self.n_para = X.shape[-1] + 1\n",
    "        else:\n",
    "            X_temp = X\n",
    "            self.n_para = X.shape[-1]\n",
    "\n",
    "        data = np.hstack((X_temp, Y))\n",
    "        np.random.shuffle(data)\n",
    "        self.N_data = int(Y.shape[0] * ratio)\n",
    "        self.data_train = data[:self.N_data, :]\n",
    "        \n",
    "        self.X = data[:, 0:self.n_para]\n",
    "        self.Y = data[:, self.n_para:]\n",
    "        \n",
    "        #decding the validation set\n",
    "        if ratio < 1:\n",
    "            self.X_valid = data[self.N_data:, 0:self.n_para]\n",
    "            self.Y_valid = data[self.N_data:, self.n_para:]\n",
    "        else:\n",
    "            self.X_valid = data[:self.N_data, 0:self.n_para]\n",
    "            self.Y_valid = data[:self.N_data, self.n_para:]"
   ]
  },
  {
   "cell_type": "code",
   "execution_count": null,
   "metadata": {
    "ExecuteTime": {
     "end_time": "2018-02-12T13:36:48.342161Z",
     "start_time": "2018-02-12T13:36:47.955069Z"
    }
   },
   "outputs": [],
   "source": [
    "    \"\"\"To create batches for stocastic gradient descend\n",
    "        For the purpose of this assignment b_ratio is set to 1 therefore it will act as Batch Gradient descend\n",
    "    \"\"\"\n",
    "    def batches(self, b_ratio):\n",
    "        np.random.shuffle(self.data_train)\n",
    "        self.X_train = self.data_train[:, 0:self.n_para]\n",
    "        self.Y_train = self.data_train[:, self.n_para:]\n",
    "        b_size = int(self.N_data*b_ratio)\n",
    "        \n",
    "        total_batches = [\n",
    "            int(self.N_data / b_size) + 1\n",
    "            if self.N_data % b_size else int(self.N_data / b_size)\n",
    "        ][0]\n",
    "        for b in range(0, total_batches):\n",
    "            yield (self.Y_train[b * b_size:(b + 1) * b_size, :],\n",
    "                   self.X_train[b * b_size:(b + 1) * b_size, :])   \n",
    "    "
   ]
  },
  {
   "cell_type": "code",
   "execution_count": null,
   "metadata": {
    "ExecuteTime": {
     "end_time": "2018-02-12T13:36:48.342161Z",
     "start_time": "2018-02-12T13:36:47.955069Z"
    }
   },
   "outputs": [],
   "source": [
    "    \"\"\"Function will evaluate error at each interation\"\"\"\n",
    "    def _J(self, theta,X,Y,Xobs=None):\n",
    "        return eval(self.J)\n",
    "    \n",
    "    \"\"\"Function to evaluate gradient\"\"\"\n",
    "    def _dJ(self,theta,X,Y):\n",
    "        return eval(self.dJ)\n",
    " "
   ]
  },
  {
   "cell_type": "code",
   "execution_count": 1,
   "metadata": {
    "ExecuteTime": {
     "end_time": "2018-02-12T13:36:48.342161Z",
     "start_time": "2018-02-12T13:36:47.955069Z"
    }
   },
   "outputs": [],
   "source": [
    "   \n",
    "    \"\"\"Trains model parameters\n",
    "        lr: learning rate\n",
    "        b_ratio: batch ratio\n",
    "        iter: total number of iterations\n",
    "        flag: To indicate the use of interactive mode\n",
    "        Xobs: observed point for weighted linear regression\n",
    "        thresh: Convergence criteria for the model. If |Error_T-1 - Error_T| then model is set to be converged \n",
    "    \"\"\"\n",
    "    def _train_(self, lr=0.001, b_ratio=1, iter=100, thresh=0.00001,flag=False, Xobs = None):\n",
    "        \n",
    "        self.lr = lr\n",
    "        self.iter = iter\n",
    "        if flag and self.valid:\n",
    "            self.plot_set()\n",
    "        theta = np.zeros((1, self.n_para))\n",
    "        J_old = self._J(theta,self.X_valid,self.Y_valid,Xobs=Xobs)\n",
    "        history = []\n",
    "        start_time = time()\n",
    "        for i in range(1, iter):\n",
    "            for (Y, X) in self.batches(b_ratio):\n",
    "\n",
    "                Gd_sum = eval(self.dJ)\n",
    "                theta = theta - lr*Gd_sum\n",
    "                J = self._J(theta,self.X_valid,self.Y_valid,Xobs=Xobs)\n",
    "                \n",
    "                if (time()-start_time >= 0.2):\n",
    "                    if flag and self.valid:\n",
    "                        self.int_plot(theta,J,i,self.eqn,self.X,self.Y)\n",
    "                    start_time=time()\n",
    "                    history.append(np.hstack((theta, J)))\n",
    "\n",
    "                if np.abs(J_old-J) < thresh:\n",
    "                    print(\"Model converged at epoch %d\" % (i))\n",
    "                    self.theta = theta\n",
    "                    self.history = history\n",
    "                    return self.theta\n",
    "                J_old=J\n",
    "        self.theta = theta\n",
    "        self.history = history\n",
    "        return self.theta"
   ]
  },
  {
   "cell_type": "markdown",
   "metadata": {},
   "source": [
    "<p style=\"page-break-after:always;\"></p>\n",
    "## Modifying codes for linear regression"
   ]
  },
  {
   "cell_type": "code",
   "execution_count": null,
   "metadata": {
    "ExecuteTime": {
     "end_time": "2018-02-12T13:49:14.668657Z",
     "start_time": "2018-02-12T13:49:14.423260Z"
    }
   },
   "outputs": [],
   "source": [
    "\"\"\"Building linear regression class for interactive plotting\"\"\"\n",
    "class linear(regression):\n",
    "    def __init__(self,X,Y,ratio,eqn,dJ,J,intercept=True):\n",
    "        regression.__init__(self,X,Y,ratio,eqn,dJ,J,intercept=True)\n",
    "\n",
    "        self.valid=False\n",
    "        if X.shape[-1]==1:\n",
    "            self.valid=True\n",
    "            "
   ]
  },
  {
   "cell_type": "code",
   "execution_count": null,
   "metadata": {
    "ExecuteTime": {
     "end_time": "2018-02-12T13:49:14.668657Z",
     "start_time": "2018-02-12T13:49:14.423260Z"
    }
   },
   "outputs": [],
   "source": [
    "    \"\"\"Initial setup for the model graphs\"\"\"\n",
    "    def plot_set(self):\n",
    "        plt.figure(num=4,figsize=(40,40),dpi=30)\n",
    "        sp1 = plt.subplot(221,projection='3d')\n",
    "        sp1.set_xlabel(r'$\\theta_{0}$',fontsize=40,labelpad=40)\n",
    "        sp1.set_ylabel(r'$\\theta_{1}$',fontsize=40,labelpad=40)\n",
    "        sp1.set_zlabel(r'$J(\\theta)$',fontsize=40,labelpad=40)\n",
    "        sp1.set_title('Gradient Descend',fontsize=40)\n",
    "        sp1.tick_params(labelsize=20)\n",
    "        plt.gca().invert_xaxis()\n",
    "\n",
    "        sp2 = plt.subplot(222)\n",
    "        sp2.set_xlabel(r'$\\theta_{0}$',fontsize=40,labelpad=5)\n",
    "        sp2.set_ylabel(r'$\\theta_{1}$',fontsize=40,labelpad=5)\n",
    "        sp2.set_title('Contour Curve',fontsize=40,y=0.9)\n",
    "        sp2.tick_params(labelsize=20)\n",
    "\n",
    "        sp3 = plt.subplot(223)\n",
    "        sp3.set_xlabel(r'$epoch$',fontsize=40,labelpad=40)\n",
    "        sp3.set_ylabel(r'$J(\\theta)$',fontsize=40)\n",
    "        sp3.set_title('Error V/s Time',fontsize=40,y=0.9)\n",
    "        sp3.tick_params(labelsize=20)\n",
    "\n",
    "        sp4 = plt.subplot(224)\n",
    "        sp4.tick_params(labelsize=20)\n",
    "        self.sp1 = sp1\n",
    "        self.sp2 = sp2\n",
    "        self.sp3 = sp3\n",
    "        self.sp4 = sp4"
   ]
  },
  {
   "cell_type": "code",
   "execution_count": 3,
   "metadata": {
    "ExecuteTime": {
     "end_time": "2018-02-12T13:49:14.668657Z",
     "start_time": "2018-02-12T13:49:14.423260Z"
    }
   },
   "outputs": [],
   "source": [
    "    \"\"\"Interactive plotting the model parameters\"\"\"\n",
    "    def int_plot(self,theta,z,i,eqn,X,Y):\n",
    "\n",
    "        sp4 = self.sp4\n",
    "        x=theta[0,0]\n",
    "        y=theta[0,1]\n",
    "        self.sp1.scatter(x,y,z,c='b', marker='o',s=80.,alpha= i/self.iter)\n",
    "        self.sp2.scatter(x,y,c='r', marker='o',s=80.,alpha= i/self.iter)\n",
    "        self.sp3.scatter(i,z,c='g', marker='o',s=80.)\n",
    "        \n",
    "        sp4.cla()\n",
    "        sp4.set_title('Current Model',fontsize=40,y=0.9)\n",
    "        sp4.set_xlabel(r'$X$',fontsize=40,labelpad=40)\n",
    "        sp4.set_ylabel(r'$Y$',fontsize=40,labelpad=40)\n",
    "        Y_predicted = eval(eqn)\n",
    "        sp4.scatter(X[:,1],Y,c='b', marker='o',s=80.,label='Actual Data')\n",
    "        sp4.plot(X[:,1],Y_predicted,'r-',label='model',linewidth=5.0)\n",
    "        sp4.legend(bbox_to_anchor=(0.7, 0.2), loc=2, borderaxespad=0.,fontsize = 30)\n",
    "        \n",
    "        plt.draw()\n",
    "        plt.pause(0.01)"
   ]
  },
  {
   "cell_type": "markdown",
   "metadata": {},
   "source": [
    "<div style=\"page-break-after: always;\"></div>\n",
    "## Modifying codes for Logistic regression"
   ]
  },
  {
   "cell_type": "code",
   "execution_count": null,
   "metadata": {
    "ExecuteTime": {
     "end_time": "2018-02-12T13:49:33.288157Z",
     "start_time": "2018-02-12T13:49:33.053480Z"
    }
   },
   "outputs": [],
   "source": [
    "\"\"\"Building logistic regression class for interactive plotting\"\"\"\n",
    "class logistic(regression):\n",
    "    def __init__(self,X,Y,ratio,eqn,dJ,J,intercept=True):\n",
    "        regression.__init__(self,X,Y,ratio,eqn,dJ,J,intercept)\n",
    "        self.valid=False\n",
    "        if X.shape[-1]==2:\n",
    "            self.valid=True\n",
    "            "
   ]
  },
  {
   "cell_type": "code",
   "execution_count": null,
   "metadata": {
    "ExecuteTime": {
     "end_time": "2018-02-12T13:49:33.288157Z",
     "start_time": "2018-02-12T13:49:33.053480Z"
    }
   },
   "outputs": [],
   "source": [
    "    \"\"\"Initial setup for the model graphs\"\"\"\n",
    "    def plot_set(self):\n",
    "        plt.figure(num=4,figsize=(60,20),dpi=30)\n",
    "\n",
    "        sp2 = plt.subplot(221,projection='3d')\n",
    "        sp2.set_xlabel(r'$\\theta_{0}$',fontsize=40,labelpad=20)\n",
    "        sp2.set_ylabel(r'$\\theta_{1}$',fontsize=40,labelpad=20)\n",
    "        sp2.set_zlabel(r'$\\theta_{2}$',fontsize=40,labelpad=20)\n",
    "        sp2.set_title('Contour Curve',fontsize=40,y=1.08)\n",
    "        plt.gca().invert_xaxis()\n",
    "        sp2.tick_params(labelsize=20)\n",
    "\n",
    "        sp3 = plt.subplot(222)\n",
    "        sp3.set_xlabel(r'$epoch$',fontsize=40,labelpad=40)\n",
    "        sp3.set_ylabel(r'$J(\\theta)$',fontsize=40)\n",
    "        sp3.set_title(r'$LL(\\theta) V/s Time$',fontsize=40,y=0.9)\n",
    "        sp3.tick_params(labelsize=20)\n",
    "\n",
    "        sp4 = plt.subplot(223)\n",
    "        sp4.tick_params(labelsize=20)\n",
    "        \n",
    "        self.sp2 = sp2\n",
    "        self.sp3 = sp3\n",
    "        self.sp4 = sp4"
   ]
  },
  {
   "cell_type": "code",
   "execution_count": 4,
   "metadata": {
    "ExecuteTime": {
     "end_time": "2018-02-12T13:49:33.288157Z",
     "start_time": "2018-02-12T13:49:33.053480Z"
    }
   },
   "outputs": [],
   "source": [
    "    \"\"\"Interactive plotting the model parameters\"\"\"        \n",
    "    def int_plot(self,theta,z,i,eqn,X,Y):\n",
    "\n",
    "        sp4 = self.sp4\n",
    "\n",
    "        self.sp2.scatter(theta[0,0],theta[0,1],theta[0,2],c='r', marker='o',s=80.,alpha= i/self.iter)\n",
    "        self.sp3.scatter(i,z,c='g', marker='o',s=80.)\n",
    "        \n",
    "        sp4.cla()\n",
    "        sp4.set_title('Current Model',fontsize=40,y=0.9)\n",
    "        sp4.set_xlabel(r'$X$',fontsize=40,labelpad=40)\n",
    "        sp4.set_ylabel(r'$Y$',fontsize=40,labelpad=40)\n",
    "\n",
    "        Y_predicted = eval(eqn)\n",
    "\n",
    "        sp4.scatter(X[Y[:,0]==1][:,1],X[Y[:,0]==1][:,2],c='b', marker='o',s=80.,label='Y=1')\n",
    "        sp4.scatter(X[Y[:,0]==0][:,1],X[Y[:,0]==0][:,2],c='r', marker='^',s=80.,label='Y=0')\n",
    "\n",
    "        sp4.plot(X[:,1],Y_predicted,'r-',label='model',linewidth=5.0)\n",
    "        sp4.legend(bbox_to_anchor=(0.7, 0.3), loc=2, borderaxespad=0.,fontsize = 30)\n",
    "        \n",
    "        plt.draw()\n",
    "        plt.pause(0.01)"
   ]
  }
 ],
 "metadata": {
  "kernelspec": {
   "display_name": "Python 3",
   "language": "python",
   "name": "python3"
  },
  "language_info": {
   "codemirror_mode": {
    "name": "ipython",
    "version": 3
   },
   "file_extension": ".py",
   "mimetype": "text/x-python",
   "name": "python",
   "nbconvert_exporter": "python",
   "pygments_lexer": "ipython3",
   "version": "3.5.2"
  },
  "latex_envs": {
   "LaTeX_envs_menu_present": true,
   "autoclose": true,
   "autocomplete": true,
   "bibliofile": "biblio.bib",
   "cite_by": "apalike",
   "current_citInitial": 1,
   "eqLabelWithNumbers": true,
   "eqNumInitial": 1,
   "hotkeys": {
    "equation": "Ctrl-E",
    "itemize": "Ctrl-I"
   },
   "labels_anchors": false,
   "latex_user_defs": false,
   "report_style_numbering": true,
   "user_envs_cfg": true
  },
  "varInspector": {
   "cols": {
    "lenName": 16,
    "lenType": 16,
    "lenVar": 40
   },
   "kernels_config": {
    "python": {
     "delete_cmd_postfix": "",
     "delete_cmd_prefix": "del ",
     "library": "var_list.py",
     "varRefreshCmd": "print(var_dic_list())"
    },
    "r": {
     "delete_cmd_postfix": ") ",
     "delete_cmd_prefix": "rm(",
     "library": "var_list.r",
     "varRefreshCmd": "cat(var_dic_list()) "
    }
   },
   "oldHeight": 122,
   "position": {
    "height": "40px",
    "left": "1169px",
    "right": "20px",
    "top": "120px",
    "width": "250px"
   },
   "types_to_exclude": [
    "module",
    "function",
    "builtin_function_or_method",
    "instance",
    "_Feature"
   ],
   "varInspector_section_display": "none",
   "window_display": true
  }
 },
 "nbformat": 4,
 "nbformat_minor": 2
}
