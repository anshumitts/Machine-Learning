{
 "cells": [
  {
   "cell_type": "markdown",
   "metadata": {},
   "source": [
    "# Question 3: Logistic Regression\n",
    "\n",
    "## Data \n",
    "In the current problem we are given $m$ values of attributes such that for each $i^{th}$ value of the attribute ($\\alpha^i \\varepsilon R^{2}$) we have $Y^i \\varepsilon R^{1}$. We define $X^i$ such that for each $i^{th}$ sample $X^i = <1,\\alpha^i> $ to accomodate intercept term where $X \\varepsilon R^{1+2}$.\n",
    "\n",
    "## Equations used in training of model parameters: $\\theta$ ($ \\theta \\varepsilon R^{1+1}$)\n",
    "\n",
    "#### Model : $h_{\\theta}(X)= \\frac{1}{1+e^{-\\theta^{T}X}}$\n",
    "#### Log Likelyhood: $LL(\\theta) = \\sum_{i=1}^{m}\\left (Y^ilog(h_{\\theta}(X^i))+(1-Y^i)(log{1-h_{\\theta}(X^i)})\\right) $ \n",
    "#### Gradient: $\\bigtriangledown_\\theta(J(\\theta))=\\sum_{i=1}^{m}X^i(Y^i-h_{\\theta}(X^i))$\n",
    "#### Newton's method algorithm: $\\theta^{t+1}=\\theta^{t}-H^{-1}\\bigtriangledown_\\theta(J(\\theta))$\n",
    "###### $H = \\bigtriangledown^{2}_\\theta(J(\\theta)) = -\\sum_{i=1}^{m} h_{\\theta}(X^i)*(1-h_{\\theta}(X^i)){X^i}^{T}{X^i}$"
   ]
  },
  {
   "cell_type": "code",
   "execution_count": 1,
   "metadata": {
    "ExecuteTime": {
     "end_time": "2018-02-11T10:11:20.049978Z",
     "start_time": "2018-02-11T10:11:19.661410Z"
    }
   },
   "outputs": [],
   "source": [
    "import sys\n",
    "import numpy as np\n",
    "sys.path.append('../')\n",
    "from lib.ml import logistic\n",
    "from lib.ml import norm\n",
    "import matplotlib\n",
    "import matplotlib.pyplot as plt\n",
    "#%matplotlib"
   ]
  },
  {
   "cell_type": "markdown",
   "metadata": {},
   "source": [
    "## Loading testing and training data"
   ]
  },
  {
   "cell_type": "code",
   "execution_count": 2,
   "metadata": {
    "ExecuteTime": {
     "end_time": "2018-02-11T10:11:20.171414Z",
     "start_time": "2018-02-11T10:11:20.052093Z"
    }
   },
   "outputs": [],
   "source": [
    "X = norm(np.loadtxt(open('logisticX.csv'), delimiter=\",\").reshape(100, 2))\n",
    "Y = (np.loadtxt(open('logisticY.csv'), delimiter=\",\")).reshape(-1, 1)"
   ]
  },
  {
   "cell_type": "markdown",
   "metadata": {},
   "source": [
    "## Function to plot model estimates"
   ]
  },
  {
   "cell_type": "code",
   "execution_count": 3,
   "metadata": {
    "ExecuteTime": {
     "end_time": "2018-02-11T10:11:20.341457Z",
     "start_time": "2018-02-11T10:11:20.173531Z"
    }
   },
   "outputs": [],
   "source": [
    "def _plot_model(self,X,Y):\n",
    "    plot_eqn = '(X[:,0]*self.theta[0,1]+self.theta[0,0])*-1/self.theta[:,2]'\n",
    "    plt.figure(1)\n",
    "    plt.title(\"Model for learning rate %f\"%(self.lr),fontsize=10,y=0.9)\n",
    "    Y_predicted = eval(plot_eqn)\n",
    "    plt.plot(X[Y[:,0]==1][:,0],X[Y[:,0]==1][:,1],'b.',label='Y=1')\n",
    "    plt.plot(X[Y[:,0]==0][:,0],X[Y[:,0]==0][:,1],'r^',label='Y=0')\n",
    "    plt.plot(X[:,0],Y_predicted,'g-',label='model')\n",
    "    plt.legend(bbox_to_anchor=(0.7, 0.3), loc=2, borderaxespad=0.)\n",
    "    plt.xlabel(r'$X_0$')\n",
    "    plt.ylabel(r'$X_1$')\n",
    "    plt.draw()\n",
    "        \n",
    "def _plot_contours(self):\n",
    "    history = np.asarray(self.history)\n",
    "    t_hist = history.shape[0]\n",
    "    x = (history[:,:,0].T)[0]\n",
    "    y = (history[:,:,1].T)[0]\n",
    "    z = (history[:,:,2].T)[0]\n",
    "    alpha = [(t_hist-x)/t_hist for x in range(0,t_hist)]\n",
    "    plt.figure(3)\n",
    "    sp1 = plt.subplot(111,projection='3d')\n",
    "    sp1.set_title('Contours for learning rate %f'%(self.lr))\n",
    "    sp1.plot(x,y,z,c='k', marker='')\n",
    "    sp1.scatter(x,y,z,c=alpha, marker='o',cmap='gray')\n",
    "    sp1.set_xlabel(r'$\\theta_{0}$')\n",
    "    sp1.set_ylabel(r'$\\theta_{1}$')\n",
    "    sp1.set_zlabel(r'$\\theta_{2}$')\n",
    "    plt.draw()"
   ]
  },
  {
   "cell_type": "markdown",
   "metadata": {},
   "source": [
    "## Training model to estimate parameter $\\theta$\n",
    "Note: to see how gardient descend is working use the interactive mode by replacing\n",
    "\n",
    "```python\n",
    "model._train_(lr=0.0001,b_ratio=1,iter=20000,thresh=1e-100)\n",
    "```\n",
    "with\n",
    "```python\n",
    "model._train_(lr=0.0001,b_ratio=1,iter=20000,thresh=1e-100,flag=True)\n",
    "```"
   ]
  },
  {
   "cell_type": "code",
   "execution_count": 4,
   "metadata": {
    "ExecuteTime": {
     "end_time": "2018-02-11T10:11:32.227691Z",
     "start_time": "2018-02-11T10:11:20.348339Z"
    }
   },
   "outputs": [],
   "source": [
    "eqn = 'np.dot(X[:,0:2],(theta[:,0:2].T))*-1/theta[:,2]'\n",
    "J = 'np.sum(Y*np.log((1/(1+np.exp(-np.dot(X, theta.T)))))+(1-Y)*np.log((1-(1/(1+np.exp(-np.dot(X, theta.T))))))).reshape(1,1)'\n",
    "dJ = 'np.dot((Y - (1/(1+np.exp(-np.dot(X, theta.T))))).T, X)'\n",
    "H = 'np.dot(X.T,-1*((1/(1+np.exp(-np.dot(X, theta.T))))*(1-(1/(1+np.exp(-np.dot(X, theta.T))))))*X)'\n",
    "HdJ = 'np.dot(%s,np.linalg.pinv(%s))'%(dJ,H)\n",
    "model = logistic(X,Y,0.8,eqn,HdJ,J)\n",
    "theta  = model._train_(lr=0.0001,b_ratio=1,iter=20000,thresh=1e-100)"
   ]
  },
  {
   "cell_type": "markdown",
   "metadata": {
    "variables": {
     "print(H)": "np.dot(X.T,-1<em>((1/(1+np.exp(-np.dot(X, theta.T))))</em>(1-(1/(1+np.exp(-np.dot(X, theta.T))))))*X)",
     "print(J)": "np.sum(Y<em>np.log((1/(1+np.exp(-np.dot(X, theta.T)))))+(1-Y)</em>np.log((1-(1/(1+np.exp(-np.dot(X, theta.T))))))).reshape(1,1)",
     "print(eqn)": "np.dot(X[:,0:2],(theta[:,0:2].T))*-1/theta[:,2]",
     "print(theta[0,:])": "[ 0.08243096  1.25712028 -1.37832806]"
    }
   },
   "source": [
    "###### Y = {{print(eqn)}}\n",
    "###### LL($\\theta$) = {{print(J)}}\n",
    "###### H = {{print(H)}}\n",
    "#### Estimated value of $\\theta$ = {{print(theta[0,:])}}"
   ]
  },
  {
   "cell_type": "markdown",
   "metadata": {},
   "source": [
    "####  Functions to plot model estimates\n",
    "+ _plot_model(model,X,Y)\n",
    "+ _plot_contours(model)"
   ]
  },
  {
   "cell_type": "markdown",
   "metadata": {
    "variables": {
     "_plot_model(model,X,Y)": "<img src=\"data:image/png;base64,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\n\"/>"
    }
   },
   "source": [
    "##### Plotting model with data {{_plot_model(model,X,Y)}}"
   ]
  }
 ],
 "metadata": {
  "kernelspec": {
   "display_name": "Python 3",
   "language": "python",
   "name": "python3"
  },
  "language_info": {
   "codemirror_mode": {
    "name": "ipython",
    "version": 3
   },
   "file_extension": ".py",
   "mimetype": "text/x-python",
   "name": "python",
   "nbconvert_exporter": "python",
   "pygments_lexer": "ipython3",
   "version": "3.5.2"
  },
  "varInspector": {
   "cols": {
    "lenName": 16,
    "lenType": 16,
    "lenVar": 40
   },
   "kernels_config": {
    "python": {
     "delete_cmd_postfix": "",
     "delete_cmd_prefix": "del ",
     "library": "var_list.py",
     "varRefreshCmd": "print(var_dic_list())"
    },
    "r": {
     "delete_cmd_postfix": ") ",
     "delete_cmd_prefix": "rm(",
     "library": "var_list.r",
     "varRefreshCmd": "cat(var_dic_list()) "
    }
   },
   "oldHeight": 122,
   "position": {
    "height": "40px",
    "left": "1096px",
    "right": "20px",
    "top": "120px",
    "width": "250px"
   },
   "types_to_exclude": [
    "module",
    "function",
    "builtin_function_or_method",
    "instance",
    "_Feature"
   ],
   "varInspector_section_display": "none",
   "window_display": true
  }
 },
 "nbformat": 4,
 "nbformat_minor": 2
}
