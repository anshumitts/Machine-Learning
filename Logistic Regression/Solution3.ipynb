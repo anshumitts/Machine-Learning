{
 "cells": [
  {
   "cell_type": "markdown",
   "metadata": {},
   "source": [
    "# Question 3: Logistic Regression\n",
    "\n",
    "## Data \n",
    "In the current problem we are given $m$ values of attributes such that for each $i^{th}$ value of the attribute ($\\alpha^i \\varepsilon R^{2}$) we have $Y^i \\varepsilon R^{1}$. We define $X^i$ such that for each $i^{th}$ sample $X^i = <1,\\alpha^i> $ to accomodate intercept term where $X \\varepsilon R^{1+2}$.\n",
    "\n",
    "## Equations used in training of model parameters: $\\theta$ ($ \\theta \\varepsilon R^{1+1}$)\n",
    "\n",
    "#### Model : $h_{\\theta}(X)= \\frac{1}{1+e^{-\\theta^{T}X}}$\n",
    "#### Log Likelyhood: $LL(\\theta) = \\sum_{i=1}^{m}\\left (Y^ilog(h_{\\theta}(X^i))+(1-Y^i)(log{1-h_{\\theta}(X^i)})\\right) $ \n",
    "#### Gradient: $\\bigtriangledown_\\theta(J(\\theta))=\\sum_{i=1}^{m}X^i(Y^i-h_{\\theta}(X^i))$\n",
    "#### Newton's method algorithm: $\\theta^{t+1}=\\theta^{t}-H^{-1}\\bigtriangledown_\\theta(J(\\theta))$\n",
    "###### $H = \\bigtriangledown^{2}_\\theta(J(\\theta)) = -\\sum_{i=1}^{m} h_{\\theta}(X^i)*(1-h_{\\theta}(X^i)){X^i}^{T}{X^i}$"
   ]
  },
  {
   "cell_type": "code",
   "execution_count": 1,
   "metadata": {
    "ExecuteTime": {
     "end_time": "2018-02-12T13:15:41.162996Z",
     "start_time": "2018-02-12T13:15:40.584532Z"
    }
   },
   "outputs": [],
   "source": [
    "import sys\n",
    "import numpy as np\n",
    "sys.path.append('../')\n",
    "from lib.ml import logistic\n",
    "from lib.ml import norm\n",
    "import matplotlib\n",
    "import matplotlib.pyplot as plt\n",
    "#%matplotlib"
   ]
  },
  {
   "cell_type": "markdown",
   "metadata": {},
   "source": [
    "## Loading testing and training data"
   ]
  },
  {
   "cell_type": "code",
   "execution_count": 2,
   "metadata": {
    "ExecuteTime": {
     "end_time": "2018-02-12T13:15:41.256248Z",
     "start_time": "2018-02-12T13:15:41.165430Z"
    }
   },
   "outputs": [],
   "source": [
    "X = norm(np.loadtxt(open('logisticX.csv'), delimiter=\",\").reshape(100, 2))\n",
    "Y = (np.loadtxt(open('logisticY.csv'), delimiter=\",\")).reshape(-1, 1)"
   ]
  },
  {
   "cell_type": "markdown",
   "metadata": {},
   "source": [
    "## Function to plot model estimates"
   ]
  },
  {
   "cell_type": "code",
   "execution_count": 3,
   "metadata": {
    "ExecuteTime": {
     "end_time": "2018-02-12T13:15:41.411127Z",
     "start_time": "2018-02-12T13:15:41.258635Z"
    }
   },
   "outputs": [],
   "source": [
    "def _plot_model(self,X,Y):\n",
    "    plot_eqn = '(X[:,0]*self.theta[0,1]+self.theta[0,0])*-1/self.theta[:,2]'\n",
    "    plt.figure(1)\n",
    "    plt.title(\"Model for learning rate %f\"%(self.lr),fontsize=10,y=0.9)\n",
    "    Y_predicted = eval(plot_eqn)\n",
    "    plt.plot(X[Y[:,0]==1][:,0],X[Y[:,0]==1][:,1],'b.',label='Y=1')\n",
    "    plt.plot(X[Y[:,0]==0][:,0],X[Y[:,0]==0][:,1],'r^',label='Y=0')\n",
    "    plt.plot(X[:,0],Y_predicted,'g-',label='model')\n",
    "    plt.legend(bbox_to_anchor=(0.7, 0.3), loc=2, borderaxespad=0.)\n",
    "    plt.xlabel(r'$X_0$')\n",
    "    plt.ylabel(r'$X_1$')\n",
    "    plt.draw()\n",
    "        \n",
    "def _plot_contours(self):\n",
    "    history = np.asarray(self.history)\n",
    "    t_hist = history.shape[0]\n",
    "    x = (history[:,:,0].T)[0]\n",
    "    y = (history[:,:,1].T)[0]\n",
    "    z = (history[:,:,2].T)[0]\n",
    "    alpha = [(t_hist-x)/t_hist for x in range(0,t_hist)]\n",
    "    plt.figure(3)\n",
    "    sp1 = plt.subplot(111,projection='3d')\n",
    "    sp1.set_title('Contours for learning rate %f'%(self.lr))\n",
    "    sp1.plot(x,y,z,c='k', marker='')\n",
    "    sp1.scatter(x,y,z,c=alpha, marker='o',cmap='gray')\n",
    "    sp1.set_xlabel(r'$\\theta_{0}$')\n",
    "    sp1.set_ylabel(r'$\\theta_{1}$')\n",
    "    sp1.set_zlabel(r'$\\theta_{2}$')\n",
    "    plt.draw()"
   ]
  },
  {
   "cell_type": "markdown",
   "metadata": {},
   "source": [
    "## Training model to estimate parameter $\\theta$\n",
    "Note: to see how gardient descend is working use the interactive mode by replacing\n",
    "\n",
    "```python\n",
    "model._train_(lr=0.0001,b_ratio=1,iter=20000,thresh=1e-100)\n",
    "```\n",
    "with\n",
    "```python\n",
    "model._train_(lr=0.0001,b_ratio=1,iter=20000,thresh=1e-100,flag=True)\n",
    "```"
   ]
  },
  {
   "cell_type": "code",
   "execution_count": 4,
   "metadata": {
    "ExecuteTime": {
     "end_time": "2018-02-12T13:15:53.867503Z",
     "start_time": "2018-02-12T13:15:41.414576Z"
    }
   },
   "outputs": [],
   "source": [
    "eqn = 'np.dot(X[:,0:2],(theta[:,0:2].T))*-1/theta[:,2]'\n",
    "J = 'np.sum(Y*np.log((1/(1+np.exp(-np.dot(X, theta.T)))))+(1-Y)*np.log((1-(1/(1+np.exp(-np.dot(X, theta.T))))))).reshape(1,1)'\n",
    "dJ = 'np.dot((Y - (1/(1+np.exp(-np.dot(X, theta.T))))).T, X)'\n",
    "H = 'np.dot(X.T,-1*((1/(1+np.exp(-np.dot(X, theta.T))))*(1-(1/(1+np.exp(-np.dot(X, theta.T))))))*X)'\n",
    "HdJ = 'np.dot(%s,np.linalg.pinv(%s))'%(dJ,H)\n",
    "model = logistic(X,Y,0.8,eqn,HdJ,J)\n",
    "theta  = model._train_(lr=0.0001,b_ratio=1,iter=20000,thresh=1e-100)"
   ]
  },
  {
   "cell_type": "markdown",
   "metadata": {
    "variables": {
     "print(H)": "np.dot(X.T,-1<em>((1/(1+np.exp(-np.dot(X, theta.T))))</em>(1-(1/(1+np.exp(-np.dot(X, theta.T))))))*X)",
     "print(J)": "np.sum(Y<em>np.log((1/(1+np.exp(-np.dot(X, theta.T)))))+(1-Y)</em>np.log((1-(1/(1+np.exp(-np.dot(X, theta.T))))))).reshape(1,1)",
     "print(eqn)": "np.dot(X[:,0:2],(theta[:,0:2].T))*-1/theta[:,2]",
     "print(theta[0,:])": "[ 0.11922321  1.19485983 -1.59153799]"
    }
   },
   "source": [
    "###### Y = {{print(eqn)}}\n",
    "###### LL($\\theta$) = {{print(J)}}\n",
    "###### H = {{print(H)}}\n",
    "#### Estimated value of $\\theta$ = {{print(theta[0,:])}}"
   ]
  },
  {
   "cell_type": "markdown",
   "metadata": {},
   "source": [
    "####  Functions to plot model estimates\n",
    "+ _plot_model(model,X,Y)\n",
    "+ _plot_contours(model)"
   ]
  },
  {
   "cell_type": "markdown",
   "metadata": {
    "variables": {
     "_plot_model(model,X,Y)": "<img src=\"data:image/png;base64,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\n\"/>"
    }
   },
   "source": [
    "##### Plotting model with data {{_plot_model(model,X,Y)}}"
   ]
  }
 ],
 "metadata": {
  "kernelspec": {
   "display_name": "Python 3",
   "language": "python",
   "name": "python3"
  },
  "language_info": {
   "codemirror_mode": {
    "name": "ipython",
    "version": 3
   },
   "file_extension": ".py",
   "mimetype": "text/x-python",
   "name": "python",
   "nbconvert_exporter": "python",
   "pygments_lexer": "ipython3",
   "version": "3.5.2"
  },
  "varInspector": {
   "cols": {
    "lenName": 16,
    "lenType": 16,
    "lenVar": 40
   },
   "kernels_config": {
    "python": {
     "delete_cmd_postfix": "",
     "delete_cmd_prefix": "del ",
     "library": "var_list.py",
     "varRefreshCmd": "print(var_dic_list())"
    },
    "r": {
     "delete_cmd_postfix": ") ",
     "delete_cmd_prefix": "rm(",
     "library": "var_list.r",
     "varRefreshCmd": "cat(var_dic_list()) "
    }
   },
   "oldHeight": 122,
   "position": {
    "height": "40px",
    "left": "1096px",
    "right": "20px",
    "top": "120px",
    "width": "250px"
   },
   "types_to_exclude": [
    "module",
    "function",
    "builtin_function_or_method",
    "instance",
    "_Feature"
   ],
   "varInspector_section_display": "none",
   "window_display": true
  }
 },
 "nbformat": 4,
 "nbformat_minor": 2
}
